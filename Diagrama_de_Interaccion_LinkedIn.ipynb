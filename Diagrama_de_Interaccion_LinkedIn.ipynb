{
  "cells": [
    {
      "cell_type": "markdown",
      "metadata": {
        "id": "view-in-github",
        "colab_type": "text"
      },
      "source": [
        "<a href=\"https://colab.research.google.com/github/luis0098/Archivos/blob/main/Diagrama_de_Interaccion_LinkedIn.ipynb\" target=\"_parent\"><img src=\"https://colab.research.google.com/assets/colab-badge.svg\" alt=\"Open In Colab\"/></a>"
      ]
    },
    {
      "cell_type": "markdown",
      "id": "5f075636",
      "metadata": {
        "id": "5f075636"
      },
      "source": [
        "# INGRESO DE DATOS"
      ]
    },
    {
      "cell_type": "code",
      "execution_count": null,
      "id": "836d29ab",
      "metadata": {
        "id": "836d29ab"
      },
      "outputs": [],
      "source": [
        "recubrimiento=5    #cm\n",
        "fc=280             #kg/cm2    #Resistencia a la compresion del concreto \n",
        "fy=4200            #kg/cm2    #Resistencia a la fluencia del acero\n",
        "Es=2.00*10**6      #kg/cm2    #Modulo de elasticidad del acero \n",
        "base=40            #cm  \n",
        "altura=60          #cm \n",
        "numero_aceros_x=5\n",
        "numero_aceros_y=7\n",
        "diametros=\"1/2\"     #pulg  \"1/4\"   \"3/8\"    \"1/2\"   \"5/8\"  \"3/4\"    \"1\"  \n",
        "carga_momento=[14.5,5,2,8,21]         #ton.m \n",
        "carga_compresion=[48,67.2,22,42,62]   #ton\n",
        "etiqueta=\"  C2\""
      ]
    },
    {
      "cell_type": "markdown",
      "source": [
        "# PROCESO"
      ],
      "metadata": {
        "id": "vqQfgb5Hgd6r"
      },
      "id": "vqQfgb5Hgd6r"
    },
    {
      "cell_type": "markdown",
      "source": [
        "## LIBRERIAS"
      ],
      "metadata": {
        "id": "0gBsobUHwLm2"
      },
      "id": "0gBsobUHwLm2"
    },
    {
      "cell_type": "code",
      "execution_count": null,
      "id": "2d17d4ee",
      "metadata": {
        "id": "2d17d4ee"
      },
      "outputs": [],
      "source": [
        "import matplotlib.pyplot as plt\n",
        "import numpy as np\n",
        "import pandas as pd"
      ]
    },
    {
      "cell_type": "markdown",
      "source": [
        "## CALCULOS INTERMEDIOS"
      ],
      "metadata": {
        "id": "laGd6CAewWgZ"
      },
      "id": "laGd6CAewWgZ"
    },
    {
      "cell_type": "code",
      "execution_count": null,
      "id": "69fb92d4",
      "metadata": {
        "id": "69fb92d4",
        "outputId": "40340e77-0834-42d7-dfb8-0dda2af35280",
        "colab": {
          "base_uri": "https://localhost:8080/"
        }
      },
      "outputs": [
        {
          "output_type": "stream",
          "name": "stdout",
          "text": [
            "<class 'list'>\n"
          ]
        }
      ],
      "source": [
        "#calculos para obtener datos adicionales\n",
        "dprima=recubrimiento                        # d´\n",
        "peralte_efectivo=altura-recubrimiento       # d\n",
        "altura_efectiva=altura-2*recubrimiento\n",
        "altura_espaciamiento=altura_efectiva/(numero_aceros_y-1)\n",
        "Ag=base*altura\n",
        "numero_aceros=2*(numero_aceros_x)+2*(numero_aceros_y)-4\n",
        "\n",
        "εc = 0.003\n",
        "εy = fy/Es\n",
        "\n",
        "#Calculos de las distancias de cada varilla\n",
        "distancias=[]\n",
        "for i in range(numero_aceros_y):\n",
        "    distancias=distancias+[altura_espaciamiento*(i)+recubrimiento]\n",
        "distancias2=list(distancias)  \n",
        "#Ec=15000.00*sqrt(fc)\n",
        "\n",
        "#Calculo de areas de acero\n",
        "if diametros==\"1/4\":\n",
        "    As1=0.32\n",
        "if diametros==\"3/8\":\n",
        "    As1=0.71\n",
        "if diametros==\"1/2\":\n",
        "    As1=1.27\n",
        "if diametros==\"5/8\":\n",
        "    As1=1.98\n",
        "if diametros==\"3/4\":\n",
        "    As1=2.84\n",
        "if diametros==\"1\":\n",
        "    As1=5.10  #5.07\n",
        "\n",
        "Areas_nn=[0 for i in range(numero_aceros_y)]\n",
        "for i in range(numero_aceros_y):\n",
        "    if i == 0 or i == (numero_aceros_y-1):\n",
        "        Areas_nn[i]=As1*(numero_aceros_x)\n",
        "    else:\n",
        "        Areas_nn[i]=As1*2.00\n",
        "#Beta 1 \n",
        "if fc < 280:\n",
        "    beta1=0.85\n",
        "else:\n",
        "    beta1=max(0.85-0.05*(fc-280)/7,0.65)\n",
        "\n",
        "cuantia=sum(Areas_nn)/Ag\n",
        "print(type(Areas_nn))"
      ]
    },
    {
      "cell_type": "markdown",
      "source": [
        "## COEFICIENTES DE REDUCCION"
      ],
      "metadata": {
        "id": "Pmrh5lBBwkk9"
      },
      "id": "Pmrh5lBBwkk9"
    },
    {
      "cell_type": "markdown",
      "source": [
        "### Factor de resistencia segun ACI"
      ],
      "metadata": {
        "id": "UHSZL52xywMI"
      },
      "id": "UHSZL52xywMI"
    },
    {
      "cell_type": "code",
      "source": [
        "def phi_ACI(εs,εy):\n",
        "    phi_factor = 0.65 + 0.25*(εs - εy)/(0.005-εy)\n",
        "    if phi_factor >= 0.90:\n",
        "        phi = 0.90        #Controlado por la Tension\n",
        "    elif phi_factor <= 0.65:\n",
        "        phi = 0.65,       #Controlado por la Compresion\n",
        "    else:\n",
        "        phi = phi_factor  #Transicion\n",
        "    return phi"
      ],
      "metadata": {
        "id": "TQBuoXib8OLB"
      },
      "id": "TQBuoXib8OLB",
      "execution_count": null,
      "outputs": []
    },
    {
      "cell_type": "markdown",
      "source": [
        "### Factor de resistencia segun E060"
      ],
      "metadata": {
        "id": "6hDykYMVh-vS"
      },
      "id": "6hDykYMVh-vS"
    },
    {
      "cell_type": "code",
      "source": [
        "def phi_E060(Suma_Tensiones_normales):\n",
        "    phi=0.65\n",
        "    if Suma_Tensiones_normales>0.1*(base*altura)*fc:\n",
        "        phi=0.65\n",
        "    elif Suma_Tensiones_normales>0:\n",
        "        #phi=0.9-4.96*10**(-6)*Suma_Tensiones_normales\n",
        "        phi=0.9-2/(fc*Ag)*Suma_Tensiones_normales\n",
        "    else:\n",
        "        phi=0.9\n",
        "    return phi"
      ],
      "metadata": {
        "id": "Vot1Mbizhavk"
      },
      "id": "Vot1Mbizhavk",
      "execution_count": null,
      "outputs": []
    },
    {
      "cell_type": "markdown",
      "source": [
        "## FUNCION\n",
        "Genera los puntos del diagrama de interaccion"
      ],
      "metadata": {
        "id": "OEpyr4xWwxT0"
      },
      "id": "OEpyr4xWwxT0"
    },
    {
      "cell_type": "markdown",
      "source": [
        "### Calculo de Dagrama de interaccion ACI"
      ],
      "metadata": {
        "id": "HjU9YrWzN42d"
      },
      "id": "HjU9YrWzN42d"
    },
    {
      "cell_type": "code",
      "source": [
        "def Diagrama_interaccion_ACI(c,εc,fc,base,εy,Es,Areas_nn,fy,distancias2,altura):\n",
        "    εsi = [0 for i in range(numero_aceros_y)] \n",
        "    fsi = [0 for i in range(numero_aceros_y)] \n",
        "    Fi = [0 for i in range(numero_aceros_y)] \n",
        "    Fi_di = [0 for i in range(numero_aceros_y)] \n",
        "    Cc = [0 for i in range(numero_aceros_y)] \n",
        "    BP = [0 for i in range(numero_aceros_y)] \n",
        "    MP = [0 for i in range(numero_aceros_y)] \n",
        "\n",
        "    #Deformacion de la fibra de acero:\n",
        "    for i in range(numero_aceros_y):\n",
        "        if c>distancias2[i]:\n",
        "            εsi[i] = εc*(c-distancias2[i])/c\n",
        "        else:\n",
        "            εsi[i] = εc*(distancias2[i]-c)/c \n",
        "\n",
        "    #Esfuerzo del acero:\n",
        "    #f = εs. Es\n",
        "    for i in range(numero_aceros_y):    \n",
        "        if εsi[i] <= εy:\n",
        "            fsi[i] = Es*εsi[i]\n",
        "        else:\n",
        "            fsi[i] = fy\n",
        "\n",
        "    #Fuerza del acero\n",
        "    #Fi = As. fi\n",
        "    for i in range(numero_aceros_y):\n",
        "        if c >distancias2[i] or i ==0:        \n",
        "            Cc[i]=Areas_nn[i]*fsi[i]\n",
        "        else:\n",
        "            Cc[i]=-1*Areas_nn[i]*fsi[i]\n",
        "\n",
        "    #Distancias de los aceros al Centroide Plastico:\n",
        "    for i in range(numero_aceros_y):\n",
        "        if altura*0.5>distancias2[i]:               \n",
        "            BP[i]=0.5*altura-distancias2[i]         #COMPRESION\n",
        "        else:\n",
        "            BP[i]=distancias2[i]-0.5*altura         #TRACCION\n",
        "\n",
        "    #Momentos de la fuerza de los aceros con respecto al Centroide Plastico\n",
        "    for i in range(numero_aceros_y):\n",
        "        if distancias2[i]>0.5*altura or BP[i]*Cc[i]<0:\n",
        "            MP[i]=-1*BP[i]*Cc[i]\n",
        "        else:\n",
        "            MP[i]=BP[i]*Cc[i]\n",
        "\n",
        "    F_concreto=0.85*fc*(0.85*c)*base                   #Fuerza de compresion del concreto\n",
        "    M_concreto=F_concreto*(altura*0.5-0.85*c*0.5)  \n",
        "    Cc.append(F_concreto)\n",
        "    MP.append(M_concreto)\n",
        "    \n",
        "    Suma_Tensiones_normales=sum(Cc)\n",
        "    Suma_Momentos_normales=sum(MP)\n",
        "\n",
        "    phi = phi_ACI(εsi[-1],εy)  #flotante\n",
        "    PU=np.array(Suma_Tensiones_normales)*phi\n",
        "    MU=np.array(Suma_Momentos_normales)*phi\n",
        "\n",
        "    carga_nom=Suma_Tensiones_normales\n",
        "    carga_ult=PU\n",
        "    momento_nom=Suma_Momentos_normales\n",
        "    momento_ult=MU\n",
        "\n",
        "    return carga_nom, carga_ult, momento_nom, momento_ult"
      ],
      "metadata": {
        "id": "89xZ5qet6wUD"
      },
      "id": "89xZ5qet6wUD",
      "execution_count": null,
      "outputs": []
    },
    {
      "cell_type": "markdown",
      "source": [
        "### Calculo de Diagrama de interaccion E060"
      ],
      "metadata": {
        "id": "WG-sgH8VN9pB"
      },
      "id": "WG-sgH8VN9pB"
    },
    {
      "cell_type": "code",
      "source": [
        "def Diagrama_interaccion_E060(c,εc,fc,base,εy,Es,Areas_nn,fy,distancias2,altura):\n",
        "    εsi = [0 for i in range(numero_aceros_y)] \n",
        "    fsi = [0 for i in range(numero_aceros_y)] \n",
        "    Fi = [0 for i in range(numero_aceros_y)] \n",
        "    Fi_di = [0 for i in range(numero_aceros_y)] \n",
        "    Cc = [0 for i in range(numero_aceros_y)] \n",
        "    BP = [0 for i in range(numero_aceros_y)] \n",
        "    MP = [0 for i in range(numero_aceros_y)] \n",
        "\n",
        "    #Deformacion de la fibra de acero:\n",
        "    for i in range(numero_aceros_y):\n",
        "        if c>distancias2[i]:\n",
        "            εsi[i] = εc*(c-distancias2[i])/c\n",
        "        else:\n",
        "            εsi[i] = εc*(distancias2[i]-c)/c \n",
        "\n",
        "    #Esfuerzo del acero:\n",
        "    #f = εs. Es\n",
        "    for i in range(numero_aceros_y):    \n",
        "        if εsi[i] <= εy:\n",
        "            fsi[i] = Es*εsi[i]\n",
        "        else:\n",
        "            fsi[i] = fy\n",
        "\n",
        "    #Fuerza del acero\n",
        "    #Fi = As. fi\n",
        "    for i in range(numero_aceros_y):\n",
        "        if c >distancias2[i] or i ==0:       \n",
        "            Cc[i]=Areas_nn[i]*fsi[i]\n",
        "        else:\n",
        "            Cc[i]=-1*Areas_nn[i]*fsi[i]\n",
        "\n",
        "    #Distancias de los aceros al Centroide Plastico:\n",
        "    for i in range(numero_aceros_y):\n",
        "        if altura*0.5>distancias2[i]:               \n",
        "            BP[i]=0.5*altura-distancias2[i]         #COMPRESION\n",
        "        else:\n",
        "            BP[i]=distancias2[i]-0.5*altura         #TRACCION\n",
        "\n",
        "    #Momentos de la fuerza de los aceros con respecto al Centroide Plastico\n",
        "    for i in range(numero_aceros_y):\n",
        "        if distancias2[i]>0.5*altura or BP[i]*Cc[i]<0:\n",
        "            MP[i]=-1*BP[i]*Cc[i]\n",
        "        else:\n",
        "            MP[i]=BP[i]*Cc[i]\n",
        "\n",
        "    F_concreto=0.85*fc*(0.85*c)*base                   #Fuerza de compresion del concreto\n",
        "    M_concreto=F_concreto*(altura*0.5-0.85*c*0.5)  \n",
        "    Cc.append(F_concreto)\n",
        "    MP.append(M_concreto)\n",
        "    \n",
        "    Suma_Tensiones_normales=sum(Cc)\n",
        "    Suma_Momentos_normales=sum(MP)\n",
        "\n",
        "    phi=phi_E060(Suma_Tensiones_normales)\n",
        "\n",
        "    PU=np.array(Suma_Tensiones_normales)*phi\n",
        "    MU=np.array(Suma_Momentos_normales)*phi\n",
        "\n",
        "    carga_nom=Suma_Tensiones_normales\n",
        "    carga_ult=PU\n",
        "    momento_nom=Suma_Momentos_normales\n",
        "    momento_ult=MU\n",
        "\n",
        "    return carga_nom, carga_ult, momento_nom, momento_ult"
      ],
      "metadata": {
        "id": "NBnzF48-NKAH"
      },
      "id": "NBnzF48-NKAH",
      "execution_count": null,
      "outputs": []
    },
    {
      "cell_type": "markdown",
      "source": [
        "## GENERACION DE PUNTOS DEL DIAGRAMA"
      ],
      "metadata": {
        "id": "DWaJ2XwBw72X"
      },
      "id": "DWaJ2XwBw72X"
    },
    {
      "cell_type": "markdown",
      "source": [
        "### COMPRESION PURA"
      ],
      "metadata": {
        "id": "WVwJc1h1yfLR"
      },
      "id": "WVwJc1h1yfLR"
    },
    {
      "cell_type": "code",
      "source": [
        "Ast=numero_aceros*As1\n",
        "Pn=(0.85*fc*(Ag-Ast)+Ast*fy)\n",
        "Pnmax=0.8*Pn  #Para columnas con estribos\n",
        "#Φ=0.65 factor de minoracion para seccion controladas por compresion\n",
        "Pumax=0.65*Pnmax              \n",
        "PCPN=[0,Pnmax]\n",
        "PCPU=[0,Pumax]\n",
        "# print(Pn)"
      ],
      "metadata": {
        "id": "HzVTa-QZydo8"
      },
      "id": "HzVTa-QZydo8",
      "execution_count": null,
      "outputs": []
    },
    {
      "cell_type": "markdown",
      "source": [
        "### GENERANDO PUNTOS"
      ],
      "metadata": {
        "id": "leVcg-DF1lh7"
      },
      "id": "leVcg-DF1lh7"
    },
    {
      "cell_type": "markdown",
      "source": [
        "#### ACI"
      ],
      "metadata": {
        "id": "_Rfz8cXqOjV5"
      },
      "id": "_Rfz8cXqOjV5"
    },
    {
      "cell_type": "code",
      "source": [
        "carga_nom_ACI=[]\n",
        "carga_ult_ACI=[]\n",
        "momento_nom_ACI=[]\n",
        "momento_ult_ACI=[]\n",
        "\n",
        "valores_c = np.arange(altura+altura/4,recubrimiento,-1)\n",
        "for c in valores_c:\n",
        "    CN_ACI, CU_ACI, MN_ACI, MU_ACI = Diagrama_interaccion_ACI(c,εc,fc,base,εy,Es,Areas_nn,fy,distancias2,altura)\n",
        "    carga_nom_ACI.append(CN_ACI)\n",
        "    carga_ult_ACI.append(CU_ACI)\n",
        "    momento_nom_ACI.append(MN_ACI)\n",
        "    momento_ult_ACI.append(MU_ACI)"
      ],
      "metadata": {
        "id": "l7QglvjrAElt"
      },
      "id": "l7QglvjrAElt",
      "execution_count": null,
      "outputs": []
    },
    {
      "cell_type": "markdown",
      "source": [
        "#### E060"
      ],
      "metadata": {
        "id": "WsPhg-toOrwI"
      },
      "id": "WsPhg-toOrwI"
    },
    {
      "cell_type": "code",
      "source": [
        "carga_nom_E060=[]\n",
        "carga_ult_E060=[]\n",
        "momento_nom_E060=[]\n",
        "momento_ult_E060=[]\n",
        "\n",
        "valores_c = np.arange(altura+altura/4,recubrimiento,-1)   #FALTA AJUSTAR ESTE VALOR....SERIA RECOMENDABLE \n",
        "for c in valores_c:\n",
        "    CN_E060, CU_E060, MN_E060, MU_E060 = Diagrama_interaccion_E060(c,εc,fc,base,εy,Es,Areas_nn,fy,distancias2,altura)\n",
        "    carga_nom_E060.append(CN_E060)\n",
        "    carga_ult_E060.append(CU_E060)\n",
        "    momento_nom_E060.append(MN_E060)\n",
        "    momento_ult_E060.append(MU_E060)"
      ],
      "metadata": {
        "id": "J-InSLtEOzOl"
      },
      "id": "J-InSLtEOzOl",
      "execution_count": null,
      "outputs": []
    },
    {
      "cell_type": "markdown",
      "source": [
        "### TRACCION PURA"
      ],
      "metadata": {
        "id": "7V_VaP9ExA90"
      },
      "id": "7V_VaP9ExA90"
    },
    {
      "cell_type": "code",
      "source": [
        "P_T=-Ast*fy\n",
        "Mn_T=0.00\n",
        "TP=[Mn_T,P_T]\n",
        "TPU=[0.9*Mn_T,0.9*P_T]"
      ],
      "metadata": {
        "id": "yL1NKsovB7Ov"
      },
      "id": "yL1NKsovB7Ov",
      "execution_count": null,
      "outputs": []
    },
    {
      "cell_type": "markdown",
      "source": [
        "### FALLA BALANCEADA"
      ],
      "metadata": {
        "id": "-X0zWCkz1Aw1"
      },
      "id": "-X0zWCkz1Aw1"
    },
    {
      "cell_type": "code",
      "source": [
        "#Para el ploteo\n",
        "carga_nom_bal=[]\n",
        "momento_nom_bal=[]\n",
        "\n",
        "Cb=(6000.00*peralte_efectivo)/(6000.00+fy)\n",
        "Pn_bal, Pu_bal, Mn_bal, Mu_bal = Diagrama_interaccion_ACI(Cb,εc,fc,base,εy,Es,Areas_nn,fy,distancias2,altura)\n",
        "#No importa que diagrama se utilice, la falla balanceada es la misma\n",
        "carga_nom_bal.append((Pn_bal))\n",
        "momento_nom_bal.append((Mn_bal))\n",
        "carga_nom_bal.append((0))\n",
        "momento_nom_bal.append((0))"
      ],
      "metadata": {
        "id": "hae6SQy8H-Dk"
      },
      "id": "hae6SQy8H-Dk",
      "execution_count": null,
      "outputs": []
    },
    {
      "cell_type": "markdown",
      "source": [
        "### UNION DE PUNTOS"
      ],
      "metadata": {
        "id": "fauc9hek1ts9"
      },
      "id": "fauc9hek1ts9"
    },
    {
      "cell_type": "markdown",
      "source": [
        "#### ACOMODO DE PUNTOS DE LA CURVA ACI"
      ],
      "metadata": {
        "id": "BSy0I_6hOZ5o"
      },
      "id": "BSy0I_6hOZ5o"
    },
    {
      "cell_type": "code",
      "source": [
        "#Uniendo los puntos del diagrama y dando forma \n",
        "carga_nom_r_ACI=[i for i in (carga_nom_ACI)]\n",
        "carga_ult_r_ACI= [i for i in (carga_ult_ACI)]\n",
        "momento_nom_r_ACI=[i for i in (momento_nom_ACI)]\n",
        "momento_ult_r_ACI=[i for i in (momento_ult_ACI)]\n",
        "\n",
        "for i in range(len(carga_nom_ACI)):\n",
        "    if carga_nom_ACI[i]>=Pnmax:\n",
        "        carga_nom_r_ACI[i]=Pnmax\n",
        "\n",
        "for i in range(len(carga_ult_ACI)):\n",
        "    if carga_ult_ACI[i]>=Pumax:\n",
        "        carga_ult_r_ACI[i]=Pumax  \n",
        "\n",
        "#uniendo el punto de traccion pura  \n",
        "carga_nom_r_ACI.append(P_T)     \n",
        "momento_nom_r_ACI.append(0)\n",
        "carga_ult_r_ACI.append(0.9*P_T)\n",
        "momento_ult_r_ACI.append(0)"
      ],
      "metadata": {
        "id": "cuLDiJ-j-SxY"
      },
      "id": "cuLDiJ-j-SxY",
      "execution_count": null,
      "outputs": []
    },
    {
      "cell_type": "markdown",
      "source": [
        "#### ACOMODO DE PUNTOS DE LA CURVA E060"
      ],
      "metadata": {
        "id": "RdzULV7KOdG8"
      },
      "id": "RdzULV7KOdG8"
    },
    {
      "cell_type": "code",
      "source": [
        "#Uniendo los puntos del diagrama y dando forma \n",
        "carga_nom_r_E060=[i for i in (carga_nom_E060)]\n",
        "carga_ult_r_E060= [i for i in (carga_ult_E060)]\n",
        "momento_nom_r_E060=[i for i in (momento_nom_E060)]\n",
        "momento_ult_r_E060=[i for i in (momento_ult_E060)]\n",
        "for i in range(len(carga_nom_E060)):\n",
        "    if carga_nom_E060[i]>=Pnmax:\n",
        "        carga_nom_r_E060[i]=Pnmax\n",
        "\n",
        "for i in range(len(carga_ult_E060)):\n",
        "    if carga_ult_E060[i]>=Pumax:\n",
        "        carga_ult_r_E060[i]=Pumax  \n",
        "\n",
        "    \n",
        "\n",
        "#uniendo el punto de traccion pura  \n",
        "carga_nom_r_E060.append(P_T)     \n",
        "momento_nom_r_E060.append(0)\n",
        "carga_ult_r_E060.append(0.9*P_T)\n",
        "momento_ult_r_E060.append(0)"
      ],
      "metadata": {
        "id": "tpGUjQQCOf0A"
      },
      "id": "tpGUjQQCOf0A",
      "execution_count": null,
      "outputs": []
    },
    {
      "cell_type": "markdown",
      "source": [
        "# GRAFICOS"
      ],
      "metadata": {
        "id": "ifcddcbGx3f6"
      },
      "id": "ifcddcbGx3f6"
    },
    {
      "cell_type": "code",
      "source": [
        "#@title\n",
        "#ACI\n",
        "fig = plt.figure(figsize=(20,9))\n",
        "ax1 = plt.subplot(1,3,1)\n",
        "ax1.plot(np.array(momento_nom_bal)/100000,np.array(carga_nom_bal)/1000,linestyle='-',color=\"black\", linewidth=0.75)\n",
        "ax1.plot(np.array(momento_nom_ACI)/100000,np.array(carga_nom_ACI)/1000, label=\"Curva Nominal\",linestyle='--',color=\"silver\")\n",
        "C_N,=ax1.plot(np.array(momento_nom_r_ACI)/100000,np.array(carga_nom_r_ACI)/1000, label=\"Curva Nominal\",linestyle='-',color=\"black\")\n",
        "ax1.plot(np.array(momento_ult_ACI)/100000,np.array(carga_ult_ACI)/1000,label=\"Curva Diseño\",linestyle='--',color=\"lightcoral\")\n",
        "C_D,=ax1.plot(np.array(momento_ult_r_ACI)/100000,np.array(carga_ult_r_ACI)/1000,label=\"Curva Diseño\",linestyle='-',color=\"red\")\n",
        "ax1.plot(carga_momento,carga_compresion,\"kx\",ms=9)\n",
        "ax1.set_ylabel(\"P (ton)\")\n",
        "ax1.set_xlabel(\"M (ton.m)\")\n",
        "ax1.set_title(\"DIAGRAMA DE INTERACCION ACI 318-19\",fontweight=\"bold\")\n",
        "ax1.legend((C_N,C_D),(\"Curva Nominal Teorica\",\"Curva Diseño ACI 318\"), loc='upper right', shadow=True)\n",
        "ax1.grid(linewidth=0.6)\n",
        "#ax1.set(xlim=(0), ylim=(0))\n",
        "ax1.set(xlim=(0))\n",
        "plt.axis(\"on\")\n",
        "ax1.set_facecolor(\"white\")\n",
        "\n",
        "#E060\n",
        "ax2 = plt.subplot(1,3,2)\n",
        "ax2.plot(np.array(momento_nom_bal)/100000,np.array(carga_nom_bal)/1000,linestyle='-',color=\"black\", linewidth=0.75)\n",
        "ax2.plot(np.array(momento_nom_E060)/100000,np.array(carga_nom_E060)/1000, label=\"Curva Nominal\",linestyle='--',color=\"silver\")\n",
        "C_N,=ax2.plot(np.array(momento_nom_r_E060)/100000,np.array(carga_nom_r_E060)/1000, label=\"Curva Nominal\",linestyle='-',color=\"black\")\n",
        "ax2.plot(np.array(momento_ult_E060)/100000,np.array(carga_ult_E060)/1000,label=\"Curva Diseño\",linestyle='--',color=\"lightcoral\")\n",
        "C_D,=ax2.plot(np.array(momento_ult_r_E060)/100000,np.array(carga_ult_r_E060)/1000,label=\"Curva Diseño\",linestyle='-',color=\"red\")\n",
        "ax2.plot(carga_momento,carga_compresion,\"kx\",ms=9)\n",
        "ax2.set_ylabel(\"P (ton)\")\n",
        "ax2.set_xlabel(\"M (ton.m)\")\n",
        "ax2.set_title(\"DIAGRAMA DE INTERACCION E060\",fontweight=\"bold\")\n",
        "ax2.legend((C_N,C_D),(\"Curva Nominal Teorica\",\"Curva Diseño E060\"), loc='upper right', shadow=True)\n",
        "ax2.grid(linewidth=0.6)\n",
        "#ax2.set(xlim=(0), ylim=(0))\n",
        "ax2.set(xlim=(0))\n",
        "plt.axis(\"on\")\n",
        "ax2.set_facecolor(\"white\")\n",
        "\n",
        "#SECCION\n",
        "#variables y operaciones para definir la geometria de la seccion de la columna\n",
        "b=base\n",
        "h=altura\n",
        "e=4       #cm  # recubrimiento\n",
        "rx=1.2  #variable, hace referencias al diametro en el plot\n",
        "ry=0.9\n",
        "rectangulo_x=[0,b,b,0,0]\n",
        "rectangulo_y=[0,0,h,h,0]\n",
        "estribo_x=[e,b-e,b-e,e,e]\n",
        "estribo_y=[e,e,h-e,h-e,e]\n",
        "k_x=numero_aceros_x-1\n",
        "k_y=numero_aceros_y-1\n",
        "s_x=(b-2*e-2*rx)/k_x\n",
        "s_y=(h-2*e-2*ry)/k_y\n",
        "varillas_x=[]\n",
        "varillas_y=[]\n",
        "for i in range(numero_aceros_x):\n",
        "    varillas_x.append((i)*s_x+e+rx)\n",
        "for i in range(numero_aceros_y):\n",
        "    varillas_y.append((i)*s_y+e+ry)\n",
        "varillas_y.pop(0)\n",
        "varillas_y.pop(-1)\n",
        "vx=varillas_x\n",
        "vy=varillas_y\n",
        "#print(s_y)\n",
        "vy1=[]\n",
        "vy2=[]\n",
        "vx1=[]\n",
        "vx2=[]\n",
        "for i in range(numero_aceros_x):\n",
        "    vy1.append(e+1.2)\n",
        "    vy2.append(h-e-1.2)\n",
        "for i in range(numero_aceros_y-2):\n",
        "    vx1.append(e+1.2)\n",
        "    vx2.append(b-e-1.2)\n",
        "    #PLOTEO DE SECCION DE LA COLUMNA\n",
        "    #PLOT 2\n",
        "#fig, ax=plt.subplots(1,2,1)\n",
        "ax3=plt.subplot(1,3,3)\n",
        "ax3.plot(rectangulo_x,rectangulo_y,\"k-\")\n",
        "ax3.plot(vx,vy1,\"ko\",ms = 13)\n",
        "ax3.plot(vx,vy2,\"ko\",ms = 13)\n",
        "ax3.plot(vx1,vy,\"ko\",ms = 13)\n",
        "ax3.plot(vx2,vy,\"ko\",ms = 13)\n",
        "ax3.plot(estribo_x,estribo_y,linestyle='-',linewidth=3.5)\n",
        "ax3.set_title(\"Seccion de la columna  \" + str(etiqueta),fontweight=\"bold\")\n",
        "#plt.ylabel(\"Base (cm)\")\n",
        "plt.xlabel(\"Luis Maldonado\",)\n",
        "#plt.axis('off')\n",
        "ax3.set_facecolor(\"lightgray\")\n",
        "ax3.set(xlim=(0,b), ylim=(0,h))\n",
        "label = [ \"$base$ = \" +str(base)+ \"$ cm$\"+'\\n$altura$ = '+str(altura)+ \"$ cm$\"+'\\n$f´_{c} $= '+str(fc)+\"$kg/cm^2$\"+'\\n$Φ$ = '+str(diametros)+'\\n$cuantia$ = '+str(round(cuantia*100,2))+\"%\"]\n",
        "ax3.legend(label,loc='center left',bbox_to_anchor=(0.96, 0.5),frameon=False,title= \"   $PROPIEDADES$\",fontsize=12)\n",
        "plt.show()"
      ],
      "metadata": {
        "id": "svwDC4mAJ4MR",
        "cellView": "form",
        "colab": {
          "base_uri": "https://localhost:8080/",
          "height": 656
        },
        "outputId": "505ea0a2-7efa-495a-8b3e-dca21b51d2ce"
      },
      "id": "svwDC4mAJ4MR",
      "execution_count": null,
      "outputs": [
        {
          "output_type": "stream",
          "name": "stderr",
          "text": [
            "/usr/local/lib/python3.7/dist-packages/ipykernel_launcher.py:8: VisibleDeprecationWarning: Creating an ndarray from ragged nested sequences (which is a list-or-tuple of lists-or-tuples-or ndarrays with different lengths or shapes) is deprecated. If you meant to do this, you must specify 'dtype=object' when creating the ndarray.\n",
            "  \n",
            "/usr/local/lib/python3.7/dist-packages/ipykernel_launcher.py:9: VisibleDeprecationWarning: Creating an ndarray from ragged nested sequences (which is a list-or-tuple of lists-or-tuples-or ndarrays with different lengths or shapes) is deprecated. If you meant to do this, you must specify 'dtype=object' when creating the ndarray.\n",
            "  if __name__ == '__main__':\n"
          ]
        },
        {
          "output_type": "display_data",
          "data": {
            "text/plain": [
              "<Figure size 1440x648 with 3 Axes>"
            ],
            "image/png": "[encoded data removed]"
          },
          "metadata": {
            "needs_background": "light"
          }
        }
      ]
    },
    {
      "cell_type": "markdown",
      "id": "1c530c56",
      "metadata": {
        "id": "1c530c56"
      },
      "source": [
        "## SECCION "
      ]
    },
    {
      "cell_type": "code",
      "execution_count": null,
      "id": "470cd23b",
      "metadata": {
        "id": "470cd23b",
        "cellView": "form",
        "colab": {
          "base_uri": "https://localhost:8080/",
          "height": 567
        },
        "outputId": "4b95c56b-7721-414d-aba8-84b582966b2a"
      },
      "outputs": [
        {
          "output_type": "display_data",
          "data": {
            "text/plain": [
              "<Figure size 864x648 with 1 Axes>"
            ],
            "image/png": "[encoded data removed]"
          },
          "metadata": {
            "needs_background": "light"
          }
        }
      ],
      "source": [
        "#@title\n",
        "#variables y operaciones para definir la geometria de la seccion de la columna\n",
        "b=base\n",
        "h=altura\n",
        "e=4\n",
        "rx=1.6\n",
        "ry=1.6  #variable, hace referencias al diametro en el plot\n",
        "rectangulo_x=[0,b,b,0,0]\n",
        "rectangulo_y=[0,0,h,h,0]\n",
        "estribo_x=[e,b-e,b-e,e,e]\n",
        "estribo_y=[e,e,h-e,h-e,e]\n",
        "k_x=numero_aceros_x-1\n",
        "k_y=numero_aceros_y-1\n",
        "s_x=(b-2*e-2*rx)/k_x\n",
        "s_y=(h-2*e-2*ry)/k_y\n",
        "varillas_x=[]\n",
        "varillas_y=[]\n",
        "for i in range(numero_aceros_x):\n",
        "    varillas_x.append((i)*s_x+e+rx)\n",
        "for i in range(numero_aceros_y):\n",
        "    varillas_y.append((i)*s_y+e+ry)\n",
        "varillas_y.pop(0)\n",
        "varillas_y.pop(-1)\n",
        "vx=varillas_x\n",
        "vy=varillas_y\n",
        "#print(s_y)\n",
        "vy1=[]\n",
        "vy2=[]\n",
        "vx1=[]\n",
        "vx2=[]\n",
        "separaciony=1.3\n",
        "separacionx=1.6\n",
        "for i in range(numero_aceros_x):\n",
        "    vy1.append(e+separaciony)\n",
        "    vy2.append(h-e-separaciony)\n",
        "for i in range(numero_aceros_y-2):\n",
        "    vx1.append(e+separacionx)\n",
        "    vx2.append(b-e-separacionx)\n",
        "    #PLOTEO DE SECCION DE LA COLUMNA\n",
        "    #PLOT 2\n",
        "#fig, ax=plt.subplots(1,2,1)\n",
        "\n",
        "fig_1=plt.figure(figsize=(12,9))\n",
        "ax2=plt.subplot(1,2,1)\n",
        "ax2.plot(rectangulo_x,rectangulo_y,\"k-\")\n",
        "ax2.plot(vx,vy1,\"ko\",ms = 12)\n",
        "ax2.plot(vx,vy2,\"ko\",ms = 12)\n",
        "ax2.plot(vx1,vy,\"ko\",ms = 12)\n",
        "ax2.plot(vx2,vy,\"ko\",ms = 12)\n",
        "ax2.plot(estribo_x,estribo_y,linestyle='-',linewidth=3)\n",
        "ax2.set_title(\"Seccion de la columna  \" + str(etiqueta),fontweight=\"bold\")\n",
        "#plt.ylabel(\"Base (cm)\")\n",
        "plt.xlabel(\"Luis Maldonado\",)\n",
        "#plt.axis('off')\n",
        "ax2.set_facecolor(\"lightgray\")\n",
        "ax2.set(xlim=(0,b), ylim=(0,h))\n",
        "label = [ \"$base$ = \" +str(base)+ \"$ cm$\"+'\\n$altura$ = '+str(altura)+ \"$ cm$\"+'\\n$f´_{c} $= '+str(fc)+\"$kg/cm^2$\"+'\\n$Φ$ = '+str(diametros)+'\\n$cuantia$ = '+str(round(cuantia*100,2))+\"%\"]\n",
        "ax2.legend(label,loc='center left',bbox_to_anchor=(0.96, 0.5),frameon=False,title=\"   $ PROPIEDADES$\",fontsize=12)\n",
        "plt.show()"
      ]
    },
    {
      "cell_type": "markdown",
      "source": [
        "## COMPARACION DE RESULTADOS"
      ],
      "metadata": {
        "id": "TAMOD1rz2Sis"
      },
      "id": "TAMOD1rz2Sis"
    },
    {
      "cell_type": "markdown",
      "source": [
        "### datos Section Designer SAP2000"
      ],
      "metadata": {
        "id": "qFTpmnITPu7I"
      },
      "id": "qFTpmnITPu7I"
    },
    {
      "cell_type": "code",
      "source": [
        "\n",
        "SAP_P_M=\"https://raw.githubusercontent.com/luis0098/Archivos/main/b40h50e5fc280acerosx5acerosy2diametro5-8.txt\"\n",
        "A = np.genfromtxt(SAP_P_M,skip_header = 1,encoding='latin')\n",
        "P_SAP, M_SAP = A[:,0], A[:,1]\n"
      ],
      "metadata": {
        "id": "2hjVfEsksCpC"
      },
      "id": "2hjVfEsksCpC",
      "execution_count": null,
      "outputs": []
    },
    {
      "cell_type": "markdown",
      "source": [
        "### PLOT"
      ],
      "metadata": {
        "id": "R0A5c1AOPzbQ"
      },
      "id": "R0A5c1AOPzbQ"
    },
    {
      "cell_type": "code",
      "source": [
        "#@title\n",
        "# recubrimiento=5    #cm\n",
        "# fc=280             #kg/cm2    #Resistencia a la compresion del concreto \n",
        "# fy=4200            #kg/cm2    #Resistencia a la fluencia del acero\n",
        "# Es=2.00*10**6      #kg/cm2    #Modulo de elasticidad del acero \n",
        "# base=40            #cm  \n",
        "# altura=50          #cm \n",
        "# numero_aceros_x=5\n",
        "# numero_aceros_y=2  \n",
        "# diametros=\"5/8\"     #pulg  \"1/4\"   \"3/8\"    \"1/2\"   \"5/8\"  \"3/4\"    \"1\"  \n",
        "\n",
        "\n",
        "\n",
        "fig = plt.figure(figsize=(11,7.5))\n",
        "ax4 = plt.subplot(1,2,1)\n",
        "#ACI\n",
        "ax4.plot(np.array(momento_nom_bal)/100000,np.array(carga_nom_bal)/1000,linestyle='-',color=\"black\", linewidth=0.75)\n",
        "ax4.plot(np.array(momento_nom_ACI)/100000,np.array(carga_nom_ACI)/1000, label=\"Curva Nominal\",linestyle='--',color=\"silver\")\n",
        "C_N,=ax4.plot(np.array(momento_nom_r_ACI)/100000,np.array(carga_nom_r_ACI)/1000, label=\"Curva Nominal\",linestyle='-',color=\"black\")\n",
        "#C_D,=ax4.plot(np.array(momento_ult_r_ACI)/100000,np.array(carga_ult_r_ACI)/1000,label=\"Curva Diseño\",linestyle='-',color=\"red\")\n",
        "#SAP2000\n",
        "C_SAP,=ax4.plot(M_SAP/1000,P_SAP/1000,label=\"SAP2000\",linestyle='-',color=\"mediumblue\",linewidth=3)\n",
        "#E060\n",
        "C_D,=ax4.plot(np.array(momento_ult_r_E060)/100000,np.array(carga_ult_r_E060)/1000,label=\"Curva Diseño\",linestyle='-',color=\"red\")\n",
        "ax4.plot(carga_momento,carga_compresion,\"kx\")\n",
        "ax4.set_ylabel(\"P (ton)\")\n",
        "ax4.set_xlabel(\"M (ton.m)\")\n",
        "ax4.set_title(\"COMPARACION CON LOS RESULTADOS DEL SAP200 \\nDIAGRAMA DE INTERACCION E060\",fontweight=\"bold\")\n",
        "\n",
        "ax4.legend((C_N,C_D,C_SAP),(\"Curva Nominal Teorica\",\"Curva Diseño ACI 318\",\"SAP2000\"), loc='lower right', shadow=True)\n",
        "ax4.grid(linewidth=1)\n",
        "#ax4.set(xlim=(0), ylim=(0))\n",
        "ax4.set( xlim=(0))\n",
        "plt.axis(\"on\")\n",
        "ax4.set_facecolor(\"white\")\n",
        "label = ['$f´c$´= '+str(fc)+'\\n$Φ$ = '+str(diametros) + '\\n$base$ = '+str(base)+ \"$ cm$\"+'\\n$altura$ = '+str(altura)+ \"$ cm$\"]\n",
        "ax4.legend(label,loc='center left',bbox_to_anchor=(0.96, 0.5),frameon=False,title=\"   $ PROPIEDADES$\",fontsize=12)\n",
        "plt.show()"
      ],
      "metadata": {
        "id": "6zb-bWm70evH",
        "colab": {
          "base_uri": "https://localhost:8080/"
        },
        "cellView": "form",
        "outputId": "35295620-d303-4bb7-f2c0-0cd56b34eff4"
      },
      "id": "6zb-bWm70evH",
      "execution_count": null,
      "outputs": [
        {
          "output_type": "display_data",
          "data": {
            "text/plain": [
              "<Figure size 792x540 with 1 Axes>"
            ],
            "image/png": "[encoded data removed]"
          },
          "metadata": {
            "needs_background": "light"
          }
        }
      ]
    }
  ],
  "metadata": {
    "kernelspec": {
      "display_name": "Python 3 (ipykernel)",
      "language": "python",
      "name": "python3"
    },
    "language_info": {
      "codemirror_mode": {
        "name": "ipython",
        "version": 3
      },
      "file_extension": ".py",
      "mimetype": "text/x-python",
      "name": "python",
      "nbconvert_exporter": "python",
      "pygments_lexer": "ipython3",
      "version": "3.9.12"
    },
    "colab": {
      "provenance": [],
      "collapsed_sections": [
        "vqQfgb5Hgd6r",
        "0gBsobUHwLm2",
        "laGd6CAewWgZ",
        "Pmrh5lBBwkk9",
        "UHSZL52xywMI",
        "6hDykYMVh-vS",
        "OEpyr4xWwxT0",
        "HjU9YrWzN42d",
        "WG-sgH8VN9pB",
        "WVwJc1h1yfLR",
        "7V_VaP9ExA90",
        "-X0zWCkz1Aw1",
        "fauc9hek1ts9",
        "BSy0I_6hOZ5o",
        "RdzULV7KOdG8",
        "TAMOD1rz2Sis",
        "qFTpmnITPu7I",
        "R0A5c1AOPzbQ"
      ],
      "include_colab_link": true
    }
  },
  "nbformat": 4,
  "nbformat_minor": 5
}